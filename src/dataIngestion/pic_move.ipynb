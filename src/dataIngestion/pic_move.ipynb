{
 "cells": [
  {
   "cell_type": "code",
   "execution_count": 4,
   "id": "2ff29da3",
   "metadata": {},
   "outputs": [
    {
     "name": "stdout",
     "output_type": "stream",
     "text": [
      "不够\n",
      "不够\n",
      "不够\n",
      "图片抽取和复制完成。\n"
     ]
    }
   ],
   "source": [
    "import os\n",
    "import random\n",
    "import shutil\n",
    "import pandas as pd\n",
    "\n",
    "# 读取 num.csv 文件\n",
    "def read_csv(file_path):\n",
    "    return pd.read_csv(file_path, header=None)[0].tolist()\n",
    "\n",
    "# 从 detailed_pic 文件夹中找到对应的图片\n",
    "def find_images(num_list, source_folder):\n",
    "    image_dict = {}\n",
    "    for num in num_list:\n",
    "        images = [img for img in os.listdir(source_folder) if img.startswith(f\"{num}_\")]\n",
    "        image_dict[num] = images\n",
    "    return image_dict\n",
    "\n",
    "# 随机选择两张图片\n",
    "def select_images(image_dict):\n",
    "    selected_images = []\n",
    "    for num, images in image_dict.items():\n",
    "        if len(images) >= 2:\n",
    "            selected_images.extend(random.sample(images, 2))\n",
    "        else:\n",
    "            print(\"不够\")\n",
    "            selected_images.extend(images)\n",
    "    return selected_images\n",
    "\n",
    "# 将图片复制到 upload_pic 文件夹\n",
    "def copy_images(selected_images, source_folder, target_folder):\n",
    "    if not os.path.exists(target_folder):\n",
    "        os.makedirs(target_folder)\n",
    "\n",
    "    for image in selected_images:\n",
    "        source_path = os.path.join(source_folder, image)\n",
    "        target_path = os.path.join(target_folder, image)\n",
    "        shutil.copy2(source_path, target_path)\n",
    "\n",
    "# 主程序\n",
    "def main():\n",
    "    num_file = 'num.csv'  # CSV 文件路径\n",
    "    source_folder = 'detailed_pic'  # 源文件夹路径\n",
    "    target_folder = 'upload_pic'  # 目标文件夹路径\n",
    "\n",
    "    num_list = read_csv(num_file)\n",
    "    image_dict = find_images(num_list, source_folder)\n",
    "    \n",
    "    selected_images = select_images(image_dict)\n",
    "    copy_images(selected_images, source_folder, target_folder)\n",
    "\n",
    "    print(\"图片抽取和复制完成。\")\n",
    "\n",
    "if __name__ == \"__main__\":\n",
    "    main()\n"
   ]
  },
  {
   "cell_type": "code",
   "execution_count": 1,
   "id": "0da27e6f",
   "metadata": {},
   "outputs": [
    {
     "name": "stdout",
     "output_type": "stream",
     "text": [
      "以下数字对应的图片不足二张：\n",
      "num\n",
      "250\n",
      "2978\n"
     ]
    }
   ],
   "source": [
    "import os\n",
    "import pandas as pd\n",
    "\n",
    "# 读取 num.csv 文件\n",
    "def read_csv(file_path):\n",
    "    return pd.read_csv(file_path, header=None)[0].tolist()\n",
    "\n",
    "# 检查每个数字对应的图片数量\n",
    "def check_images(num_list, target_folder):\n",
    "    missing_images = []\n",
    "    for num in num_list:\n",
    "        images = [img for img in os.listdir(target_folder) if img.startswith(f\"{num}_\")]\n",
    "        if len(images) < 2:\n",
    "            missing_images.append(num)\n",
    "    return missing_images\n",
    "\n",
    "# 主程序\n",
    "def main():\n",
    "    num_file = 'num.csv'  # CSV 文件路径\n",
    "    target_folder = 'upload_pic'  # 目标文件夹路径\n",
    "\n",
    "    num_list = read_csv(num_file)\n",
    "    missing_images = check_images(num_list, target_folder)\n",
    "\n",
    "    if missing_images:\n",
    "        print(\"以下数字对应的图片不足二张：\")\n",
    "        for num in missing_images:\n",
    "            print(num)\n",
    "    else:\n",
    "        print(\"所有数字都对应了至少二张图片。\")\n",
    "\n",
    "if __name__ == \"__main__\":\n",
    "    main()\n"
   ]
  }
 ],
 "metadata": {
  "kernelspec": {
   "display_name": "Python 3 (ipykernel)",
   "language": "python",
   "name": "python3"
  },
  "language_info": {
   "codemirror_mode": {
    "name": "ipython",
    "version": 3
   },
   "file_extension": ".py",
   "mimetype": "text/x-python",
   "name": "python",
   "nbconvert_exporter": "python",
   "pygments_lexer": "ipython3",
   "version": "3.9.10"
  }
 },
 "nbformat": 4,
 "nbformat_minor": 5
}
