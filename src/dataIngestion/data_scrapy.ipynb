{
 "cells": [
  {
   "cell_type": "code",
   "execution_count": 75,
   "id": "af31b65e",
   "metadata": {},
   "outputs": [],
   "source": [
    "import requests\n",
    "import json\n",
    "import csv\n",
    "import time\n",
    "import hashlib\n"
   ]
  },
  {
   "cell_type": "code",
   "execution_count": 76,
   "id": "45215b7a",
   "metadata": {},
   "outputs": [],
   "source": [
    "def md5_encrypt(input_string):\n",
    "    # 创建 MD5 哈希对象\n",
    "    md5_obj = hashlib.md5()\n",
    "\n",
    "    # 将字符串转换为字节，并更新哈希对象\n",
    "    md5_obj.update(input_string.encode())\n",
    "\n",
    "    # 返回加密后的十六进制字符串\n",
    "    return md5_obj.hexdigest()\n"
   ]
  },
  {
   "cell_type": "code",
   "execution_count": null,
   "id": "0cf2b751",
   "metadata": {},
   "outputs": [],
   "source": []
  },
  {
   "cell_type": "code",
   "execution_count": 83,
   "id": "3de0c031",
   "metadata": {},
   "outputs": [],
   "source": [
    "def scrape(page:int):\n",
    "\n",
    "    cookies = {\n",
    "        'cna': 'K40PHaTvtHUCAV+uRxu70EHC',\n",
    "        't': '09d80db637348bc5fa5c71102d63d818',\n",
    "        '_tb_token_': '997e81303ead',\n",
    "        'xlly_s': '1',\n",
    "        '_m_h5_tk': '80588e9b193a974a2d6370b35fa825da_1700727484033',\n",
    "        '_m_h5_tk_enc': '3568cc71e2fee5ff7ecd43badd3899e5',\n",
    "        'cookie2': '17729316b618de7ff72ea84a8aba87ee',\n",
    "        '_samesite_flag_': 'true',\n",
    "        'sgcookie': 'E100%2BuPhdF1BPXS3Mw0ReoVXJbm1Yi9GTNGn7G6pOH7OraukU4YKACGZtj%2FdU7HawzSAKLHsiGRa8MaO2%2BRJYMBuIYgcymFhohSM5%2F9hpGPTD%2BIEa4g6%2Bvw4YyqPxLzqGDUv',\n",
    "        'unb': '4003712996',\n",
    "        'uc1': 'cookie15=W5iHLLyFOGW7aA%3D%3D&existShop=false&pas=0&cookie14=UoYelQ3O%2BB4ZmA%3D%3D&cookie21=Vq8l%2BKCLjA%2Bl&cookie16=W5iHLLyFPlMGbLDwA%2BdvAGZqLg%3D%3D',\n",
    "        'uc3': 'nk2=F5RAR4JQbN6grcc%3D&lg2=Vq8l%2BKCLz3%2F65A%3D%3D&id2=VyyRoFpA%2F7jFIg%3D%3D&vt3=F8dD3CN6L0HiPDmHWZ4%3D',\n",
    "        'csg': '2254237c',\n",
    "        'lgc': 'tb553216326',\n",
    "        'cancelledSubSites': 'empty',\n",
    "        'cookie17': 'VyyRoFpA%2F7jFIg%3D%3D',\n",
    "        'dnk': 'tb553216326',\n",
    "        'skt': '06c4537df4b90b6c',\n",
    "        'existShop': 'MTcwMDcxOTI1Mw%3D%3D',\n",
    "        'uc4': 'id4=0%40VXteVehui1K5nIMY0zes54G9vycD&nk4=0%40FY4L6woX6I%2Fl19ce9nhHFj8dk2k%2BFQ%3D%3D',\n",
    "        'tracknick': 'tb553216326',\n",
    "        '_cc_': 'U%2BGCWk%2F7og%3D%3D',\n",
    "        '_l_g_': 'Ug%3D%3D',\n",
    "        'sg': '665',\n",
    "        '_nk_': 'tb553216326',\n",
    "        'cookie1': 'UtQOOsbSvp1NsHBurYxoRmt%2FIqIDxBW6B88eFFX%2FpkE%3D',\n",
    "        'tfstk': 'dSjHn2bfYw8CQXOhlWKQYvIbn6U9RXtWR_nJw3dz7CRsvUR8R_Ylw1TPvHBdsQ5AZLId2gbsqt65vJt8dH6BV3PYMoIld9tSuMTKM5FdL3HQMSEYDykwqWVAJY_YoTkTLuBmJMyHoIDSlnPvMoTJg9Rhp9INtjdcLenoqCJhQ8uZuoxqVdyRb4gW8d9MM3uE4uf..',\n",
    "        'l': 'fBNHcDWRPh86P1XUBOfaFurza77O8IRbSuPzaNbMi9fP9N1H5onFW1eFy0YMCnhVesgDR3RxBjFXBtlXVyd2QXsZm3k_J_2K3dhyN3pR.',\n",
    "        'isg': 'BE1NnaCtFHKRpLBX36cha9hhXGnHKoH8toYK_o_S-ORShmw4V3r8zWcQ8RrgQ5m0',\n",
    "    }\n",
    "\n",
    "    headers = {\n",
    "        'authority': 'h5api.m.taobao.com',\n",
    "        'accept': '*/*',\n",
    "        'accept-language': 'zh-CN,zh;q=0.9',\n",
    "        # Requests sorts cookies= alphabetically\n",
    "        # 'cookie': 'cna=K40PHaTvtHUCAV+uRxu70EHC; t=09d80db637348bc5fa5c71102d63d818; _tb_token_=997e81303ead; xlly_s=1; _m_h5_tk=80588e9b193a974a2d6370b35fa825da_1700727484033; _m_h5_tk_enc=3568cc71e2fee5ff7ecd43badd3899e5; cookie2=17729316b618de7ff72ea84a8aba87ee; _samesite_flag_=true; sgcookie=E100%2BuPhdF1BPXS3Mw0ReoVXJbm1Yi9GTNGn7G6pOH7OraukU4YKACGZtj%2FdU7HawzSAKLHsiGRa8MaO2%2BRJYMBuIYgcymFhohSM5%2F9hpGPTD%2BIEa4g6%2Bvw4YyqPxLzqGDUv; unb=4003712996; uc1=cookie15=W5iHLLyFOGW7aA%3D%3D&existShop=false&pas=0&cookie14=UoYelQ3O%2BB4ZmA%3D%3D&cookie21=Vq8l%2BKCLjA%2Bl&cookie16=W5iHLLyFPlMGbLDwA%2BdvAGZqLg%3D%3D; uc3=nk2=F5RAR4JQbN6grcc%3D&lg2=Vq8l%2BKCLz3%2F65A%3D%3D&id2=VyyRoFpA%2F7jFIg%3D%3D&vt3=F8dD3CN6L0HiPDmHWZ4%3D; csg=2254237c; lgc=tb553216326; cancelledSubSites=empty; cookie17=VyyRoFpA%2F7jFIg%3D%3D; dnk=tb553216326; skt=06c4537df4b90b6c; existShop=MTcwMDcxOTI1Mw%3D%3D; uc4=id4=0%40VXteVehui1K5nIMY0zes54G9vycD&nk4=0%40FY4L6woX6I%2Fl19ce9nhHFj8dk2k%2BFQ%3D%3D; tracknick=tb553216326; _cc_=U%2BGCWk%2F7og%3D%3D; _l_g_=Ug%3D%3D; sg=665; _nk_=tb553216326; cookie1=UtQOOsbSvp1NsHBurYxoRmt%2FIqIDxBW6B88eFFX%2FpkE%3D; tfstk=dSjHn2bfYw8CQXOhlWKQYvIbn6U9RXtWR_nJw3dz7CRsvUR8R_Ylw1TPvHBdsQ5AZLId2gbsqt65vJt8dH6BV3PYMoIld9tSuMTKM5FdL3HQMSEYDykwqWVAJY_YoTkTLuBmJMyHoIDSlnPvMoTJg9Rhp9INtjdcLenoqCJhQ8uZuoxqVdyRb4gW8d9MM3uE4uf..; l=fBNHcDWRPh86P1XUBOfaFurza77O8IRbSuPzaNbMi9fP9N1H5onFW1eFy0YMCnhVesgDR3RxBjFXBtlXVyd2QXsZm3k_J_2K3dhyN3pR.; isg=BE1NnaCtFHKRpLBX36cha9hhXGnHKoH8toYK_o_S-ORShmw4V3r8zWcQ8RrgQ5m0',\n",
    "        'referer': 'https://s.taobao.com/',\n",
    "        'sec-ch-ua': '\"Google Chrome\";v=\"119\", \"Chromium\";v=\"119\", \"Not?A_Brand\";v=\"24\"',\n",
    "        'sec-ch-ua-mobile': '?0',\n",
    "        'sec-ch-ua-platform': '\"Windows\"',\n",
    "        'sec-fetch-dest': 'script',\n",
    "        'sec-fetch-mode': 'no-cors',\n",
    "        'sec-fetch-site': 'same-site',\n",
    "        'user-agent': 'Mozilla/5.0 (Windows NT 10.0; Win64; x64) AppleWebKit/537.36 (KHTML, like Gecko) Chrome/119.0.0.0 Safari/537.36',\n",
    "    }\n",
    "\n",
    "    params = {\n",
    "        'jsv': '2.6.2',\n",
    "        'appKey': '12574478',\n",
    "        't': '1700719274020',\n",
    "        'sign': '0ec2c33f08476dbb00153d177c54f267',\n",
    "        'api': 'mtop.relationrecommend.WirelessRecommend.recommend',\n",
    "        'v': '2.0',\n",
    "        'type': 'jsonp',\n",
    "        'dataType': 'jsonp',\n",
    "        'callback': 'mtopjsonp2',\n",
    "        'data': '{\"appId\":\"34385\",\"params\":\"{\\\\\"device\\\\\":\\\\\"HMA-AL00\\\\\",\\\\\"isBeta\\\\\":\\\\\"false\\\\\",\\\\\"grayHair\\\\\":\\\\\"false\\\\\",\\\\\"from\\\\\":\\\\\"nt_history\\\\\",\\\\\"brand\\\\\":\\\\\"HUAWEI\\\\\",\\\\\"info\\\\\":\\\\\"wifi\\\\\",\\\\\"index\\\\\":\\\\\"4\\\\\",\\\\\"rainbow\\\\\":\\\\\"\\\\\",\\\\\"schemaType\\\\\":\\\\\"auction\\\\\",\\\\\"elderHome\\\\\":\\\\\"false\\\\\",\\\\\"isEnterSrpSearch\\\\\":\\\\\"true\\\\\",\\\\\"newSearch\\\\\":\\\\\"false\\\\\",\\\\\"network\\\\\":\\\\\"wifi\\\\\",\\\\\"subtype\\\\\":\\\\\"\\\\\",\\\\\"hasPreposeFilter\\\\\":\\\\\"false\\\\\",\\\\\"prepositionVersion\\\\\":\\\\\"v2\\\\\",\\\\\"client_os\\\\\":\\\\\"Android\\\\\",\\\\\"gpsEnabled\\\\\":\\\\\"false\\\\\",\\\\\"searchDoorFrom\\\\\":\\\\\"srp\\\\\",\\\\\"debug_rerankNewOpenCard\\\\\":\\\\\"false\\\\\",\\\\\"homePageVersion\\\\\":\\\\\"v7\\\\\",\\\\\"searchElderHomeOpen\\\\\":\\\\\"false\\\\\",\\\\\"search_action\\\\\":\\\\\"initiative\\\\\",\\\\\"sugg\\\\\":\\\\\"_4_1\\\\\",\\\\\"sversion\\\\\":\\\\\"13.6\\\\\",\\\\\"style\\\\\":\\\\\"list\\\\\",\\\\\"ttid\\\\\":\\\\\"600000@taobao_pc_10.7.0\\\\\",\\\\\"needTabs\\\\\":\\\\\"true\\\\\",\\\\\"areaCode\\\\\":\\\\\"CN\\\\\",\\\\\"vm\\\\\":\\\\\"nw\\\\\",\\\\\"countryNum\\\\\":\\\\\"156\\\\\",\\\\\"m\\\\\":\\\\\"pc\\\\\",\\\\\"page\\\\\":1,\\\\\"n\\\\\":48,\\\\\"q\\\\\":\\\\\"%E7%BE%BD%E7%BB%92%E6%9C%8D\\\\\",\\\\\"tab\\\\\":\\\\\"all\\\\\",\\\\\"pageSize\\\\\":48,\\\\\"totalPage\\\\\":100,\\\\\"totalResults\\\\\":4800,\\\\\"sourceS\\\\\":\\\\\"0\\\\\",\\\\\"sort\\\\\":\\\\\"_sale\\\\\",\\\\\"bcoffset\\\\\":\\\\\"\\\\\",\\\\\"ntoffset\\\\\":\\\\\"\\\\\",\\\\\"filterTag\\\\\":\\\\\"\\\\\",\\\\\"service\\\\\":\\\\\"\\\\\",\\\\\"prop\\\\\":\\\\\"\\\\\",\\\\\"loc\\\\\":\\\\\"\\\\\",\\\\\"start_price\\\\\":null,\\\\\"end_price\\\\\":null,\\\\\"startPrice\\\\\":null,\\\\\"endPrice\\\\\":null,\\\\\"itemIds\\\\\":null,\\\\\"p4pIds\\\\\":null}\"}',\n",
    "    }\n",
    "    \n",
    "    new_str=params['data'][:803]+str(page)+params['data'][804:]\n",
    "    params['data']=new_str\n",
    "    #params['sign']=md5_encrypt(params['data'])\n",
    "\n",
    "    response = requests.get('https://h5api.m.taobao.com/h5/mtop.relationrecommend.wirelessrecommend.recommend/2.0/', params=params, cookies=cookies, headers=headers)\n",
    "    json_data = response.text[response.text.find('(')+1 : -1]\n",
    "\n",
    "    # 将字符串解析为JSON\n",
    "    data = json.loads(json_data)\n",
    "    return data"
   ]
  },
  {
   "cell_type": "code",
   "execution_count": 44,
   "id": "688014b3",
   "metadata": {},
   "outputs": [],
   "source": [
    "def store(data):\n",
    "    for item in data:\n",
    "        detailed_link=item.get('clickUrl')\n",
    "        \n",
    "        shop_title=item.get('shopInfo').get(\"title\")\n",
    "        shop_link=item.get('shopInfo').get('url')\n",
    "        origin_price_ava=item.get('shopInfo').get('showOriginPrice')\n",
    "        if bool(origin_price_ava):\n",
    "            origin_price=item.get('shopInfo').get('originPrice')\n",
    "        else:origin_price='NA'\n",
    "            \n",
    "        title=item.get(\"title\")\n",
    "        priceWap=item.get(\"priceWap\")\n",
    "        pic_path=item.get('pic_path')\n",
    "        icon=item.get('icon')\n",
    "        \n",
    "\n",
    "        realSales=item.get('realsales')\n",
    "        procity=item.get('procity')\n",
    "        nick=item.get('nick')\n",
    "        price=item.get('price')\n",
    "        \n",
    "        auctionURL=item.get('auctionURL')\n",
    "\n",
    "        with open('downjacket.csv',mode='a',newline='',encoding='utf-8') as f:\n",
    "            csv_writer=csv.writer(f)\n",
    "            csv_writer.writerow([detailed_link,shop_title,shop_link,origin_price_ava,origin_price_ava,origin_price,title,priceWap,pic_path,icon,realSales,procity,nick,price,auctionURL])\n"
   ]
  },
  {
   "cell_type": "code",
   "execution_count": 69,
   "id": "dbe639a0",
   "metadata": {},
   "outputs": [
    {
     "name": "stdout",
     "output_type": "stream",
     "text": [
      "正在爬取第 1 页\n",
      "正在爬取第 2 页\n"
     ]
    },
    {
     "ename": "KeyError",
     "evalue": "'itemsArray'",
     "output_type": "error",
     "traceback": [
      "\u001b[1;31m---------------------------------------------------------------------------\u001b[0m",
      "\u001b[1;31mKeyError\u001b[0m                                  Traceback (most recent call last)",
      "Cell \u001b[1;32mIn[69], line 8\u001b[0m\n\u001b[0;32m      4\u001b[0m         store(scrape(i))\n\u001b[0;32m      5\u001b[0m         time\u001b[38;5;241m.\u001b[39msleep(\u001b[38;5;241m5\u001b[39m)\n\u001b[1;32m----> 8\u001b[0m \u001b[43mmain\u001b[49m\u001b[43m(\u001b[49m\u001b[38;5;241;43m5\u001b[39;49m\u001b[43m)\u001b[49m\n",
      "Cell \u001b[1;32mIn[69], line 4\u001b[0m, in \u001b[0;36mmain\u001b[1;34m(n)\u001b[0m\n\u001b[0;32m      2\u001b[0m \u001b[38;5;28;01mfor\u001b[39;00m i \u001b[38;5;129;01min\u001b[39;00m \u001b[38;5;28mrange\u001b[39m(\u001b[38;5;241m1\u001b[39m,n):\n\u001b[0;32m      3\u001b[0m     \u001b[38;5;28mprint\u001b[39m(\u001b[38;5;124m\"\u001b[39m\u001b[38;5;124m正在爬取第\u001b[39m\u001b[38;5;124m\"\u001b[39m,i,\u001b[38;5;124m\"\u001b[39m\u001b[38;5;124m页\u001b[39m\u001b[38;5;124m\"\u001b[39m)\n\u001b[1;32m----> 4\u001b[0m     store(\u001b[43mscrape\u001b[49m\u001b[43m(\u001b[49m\u001b[43mi\u001b[49m\u001b[43m)\u001b[49m)\n\u001b[0;32m      5\u001b[0m     time\u001b[38;5;241m.\u001b[39msleep(\u001b[38;5;241m5\u001b[39m)\n",
      "Cell \u001b[1;32mIn[62], line 91\u001b[0m, in \u001b[0;36mscrape\u001b[1;34m(page)\u001b[0m\n\u001b[0;32m     89\u001b[0m \u001b[38;5;66;03m# 将字符串解析为JSON\u001b[39;00m\n\u001b[0;32m     90\u001b[0m data \u001b[38;5;241m=\u001b[39m json\u001b[38;5;241m.\u001b[39mloads(json_data)\n\u001b[1;32m---> 91\u001b[0m \u001b[38;5;28;01mreturn\u001b[39;00m \u001b[43mdata\u001b[49m\u001b[43m[\u001b[49m\u001b[38;5;124;43m'\u001b[39;49m\u001b[38;5;124;43mdata\u001b[39;49m\u001b[38;5;124;43m'\u001b[39;49m\u001b[43m]\u001b[49m\u001b[43m[\u001b[49m\u001b[38;5;124;43m'\u001b[39;49m\u001b[38;5;124;43mitemsArray\u001b[39;49m\u001b[38;5;124;43m'\u001b[39;49m\u001b[43m]\u001b[49m\n",
      "\u001b[1;31mKeyError\u001b[0m: 'itemsArray'"
     ]
    }
   ],
   "source": [
    "def main(n):\n",
    "    for i in range(1,n):\n",
    "        print(\"正在爬取第\",i,\"页\")\n",
    "        store(scrape(i))\n",
    "        time.sleep(5)\n",
    "\n",
    "            \n",
    "main(5)"
   ]
  },
  {
   "cell_type": "code",
   "execution_count": 84,
   "id": "996d2d11",
   "metadata": {},
   "outputs": [],
   "source": [
    "data=scrape(2)"
   ]
  },
  {
   "cell_type": "code",
   "execution_count": 78,
   "id": "ee9971fb",
   "metadata": {},
   "outputs": [
    {
     "data": {
      "text/plain": [
       "'6280533cbcb9e29c3bae31e7e637bb8e'"
      ]
     },
     "execution_count": 78,
     "metadata": {},
     "output_type": "execute_result"
    }
   ],
   "source": []
  },
  {
   "cell_type": "code",
   "execution_count": 85,
   "id": "63c511d6",
   "metadata": {},
   "outputs": [
    {
     "data": {
      "text/plain": [
       "{'api': 'mtop.relationrecommend.wirelessrecommend.recommend',\n",
       " 'data': {},\n",
       " 'ret': ['FAIL_SYS_ILLEGAL_ACCESS::非法请求'],\n",
       " 'traceId': '2150781417007205137434877e2a0d',\n",
       " 'v': '2.0'}"
      ]
     },
     "execution_count": 85,
     "metadata": {},
     "output_type": "execute_result"
    }
   ],
   "source": [
    "data"
   ]
  }
 ],
 "metadata": {
  "kernelspec": {
   "display_name": "Python 3 (ipykernel)",
   "language": "python",
   "name": "python3"
  },
  "language_info": {
   "codemirror_mode": {
    "name": "ipython",
    "version": 3
   },
   "file_extension": ".py",
   "mimetype": "text/x-python",
   "name": "python",
   "nbconvert_exporter": "python",
   "pygments_lexer": "ipython3",
   "version": "3.9.10"
  }
 },
 "nbformat": 4,
 "nbformat_minor": 5
}
